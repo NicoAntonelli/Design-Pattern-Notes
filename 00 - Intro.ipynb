{
 "cells": [
  {
   "attachments": {},
   "cell_type": "markdown",
   "metadata": {},
   "source": [
    "# Introduction\n",
    "\n",
    "## Goal\n",
    "The objective of this notebook is to provide a simple but complete way to learn about most common software design patterns and how to use them, also with code examples in C#, and good practices in software development and architecture.\n",
    "\n",
    "## Design Patterns\n",
    "Design patterns are reusable solutions to common software design problems. They provide a way to solve recurring design challenges by capturing best practices and proven solutions. These patterns are not specific to a particular programming language or framework but can be applied to different scenarios and technologies.\n",
    "\n",
    "Design patterns aim to enhance software development by promoting code reusability, maintainability, and scalability. They provide a structured approach to solving common design problems, allowing developers to build robust, flexible, and extensible software systems.\n",
    "\n",
    "> With these notebooks I want to give importance to 2 specific group of patterns: design patterns in software development and software architecture.\n",
    "\n",
    "### Design Patterns in software development\n",
    "[Design patterns in software development](<Software Dev/01 - Design Patterns in Software Development.ipynb>) provide guidance and best practices for structuring code, organizing classes and objects, and managing relationships between them. They help improve code quality, maintainability, and extensibility, as well as promote software design principles such as encapsulation, loose coupling, and separation of concerns.\n",
    "\n",
    "There are several types of design patterns in this group, organized into three main categories:\n",
    "1. Creational Patterns (Like Singleton or Builder): These patterns focus on object creation mechanisms, providing flexible ways to create objects while decoupling the system from specific classes or implementations.\n",
    "2. Structural Patterns (Like Adapter or Decorator): These patterns deal with object composition and class relationships to form larger structures. They help create flexible and efficient class hierarchies by combining objects to form more complex structures.\n",
    "3. Behavioral Patterns (Like Observer or Strategy): These patterns focus on communication between objects and the assignment of responsibilities among them. They provide solutions for organizing, managing, and coordinating the interaction between objects.\n",
    "\n",
    "### Design Patterns in software architecture\n",
    "Design patterns in software architecture refer to higher-level patterns that guide the overall structure, organization, and communication between the major components and subsystems of a software system. These patterns address the architectural design challenges and provide proven solutions for designing scalable, maintainable, and robust software architectures.\n",
    "\n",
    "Some examples of design patterns in this group are: Repository Pattern, Layered Architecture, MVC (Model-View-Controller), Microservices, etc...\n",
    "\n",
    "Each pattern addresses specific architectural challenges and provides a set of principles and guidelines for designing scalable, maintainable, and robust software systems. Several of them can be used at the same time, that is, they are not all mutually exclusive. Choosing the appropriate patterns depends on the requirements, constraints, and goals of the specific software architecture being designed.\n",
    "\n",
    "### Good practices and software design principles\n",
    "Design patterns are not a substitute for good software design principles and practices. They are a complement to them. It is also important to understand programming principles such as \"SOLID\", \"GRASP\", etc... and apply them in conjunction with design patterns. These principles and practices help developers create software that is easy to understand, maintain, and extend. They also help reduce complexity and improve code quality by promoting code reusability, maintainability, and extensibility.\n",
    "\n",
    "> All these patterns and software design principles will be analyzed in subsequent notebooks of this repository. The idea is to make one notebook page of each pattern, with a brief explanation, benefits, how it works and code examples in C#, which is the language I use the most.\n"
   ]
  },
  {
   "cell_type": "code",
   "execution_count": 1,
   "metadata": {
    "dotnet_interactive": {
     "language": "csharp"
    },
    "polyglot_notebook": {
     "kernelName": "csharp"
    },
    "vscode": {
     "languageId": "polyglot-notebook"
    }
   },
   "outputs": [
    {
     "name": "stdout",
     "output_type": "stream",
     "text": [
      "Hello design patterns\r\n"
     ]
    }
   ],
   "source": [
    "Console.WriteLine(\"Hello design patterns\");"
   ]
  }
 ],
 "metadata": {
  "language_info": {
   "name": "python"
  },
  "orig_nbformat": 4
 },
 "nbformat": 4,
 "nbformat_minor": 2
}
