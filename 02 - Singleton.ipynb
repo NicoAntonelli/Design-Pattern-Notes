{
 "cells": [
  {
   "attachments": {},
   "cell_type": "markdown",
   "metadata": {},
   "source": [
    "# Singleton\n",
    "\n",
    "## General idea\n",
    "The Singleton pattern is a creational design pattern that ensures a class has only one instance and provides a global point of access to that instance. It is often used in situations where there should be exactly one instance of a class, such as a configuration manager, database connection pool, or logging system.\n",
    "\n",
    "## Benefits\n",
    "The Singleton pattern offers several benefits and use cases:\n",
    "\n",
    "- Single Instance: It ensures that there is only one instance of the class throughout the application. This can be useful when there should be a single point of control or access to a particular resource.\n",
    "\n",
    "- Global Access: The Singleton instance can be accessed globally from any part of the application. This eliminates the need to pass instances between objects or manage global state explicitly.\n",
    "\n",
    "- Resource Management: Singletons can be used to manage and control access to shared resources, such as database connections, file systems, or thread pools. They can help centralize and optimize the usage of these resources.\n",
    "\n",
    "- Configuration Settings: Singleton patterns are commonly used for managing application-wide configuration settings. The instance can hold and provide access to these settings, ensuring consistency throughout the application.\n",
    "\n",
    "- Easy Testing: Singleton instances can be replaced or mocked during testing, allowing for easier unit testing of other components that depend on the Singleton.\n",
    "\n",
    "> However, it's important to note that the Singleton pattern should be used with caution. While it can provide benefits, it can also introduce dependencies and global state, which may make code harder to test, maintain, and reason about. Overuse of the Singleton pattern can lead to tight coupling and hinder flexibility and extensibility. It's crucial to carefully consider the specific requirements and potential drawbacks before applying the Singleton pattern in a design.\n",
    "\n",
    "## How it works\n",
    "Private Constructor: The class's constructor is made private to prevent direct instantiation of the class from outside. This means that other classes cannot create instances of the Singleton class using the \"new\" keyword.\n",
    "\n",
    "Static Instance: The class provides a static method that returns the single instance of the class. This method is typically named `getInstance()` or `getInstance(params)` and is responsible for creating the instance if it doesn't exist or returning the existing instance. In C#, you can just use a \"property\" with `{ get; }`.\n",
    "\n",
    "## You should add in a multi-threading context\n",
    "Lazy Initialization: The Singleton instance is created only when the `getInstance()` method is called for the first time. Subsequent calls to `getInstance()` return the already created instance.\n",
    "\n",
    "Thread Safety: If multiple threads can access the `getInstance()` method simultaneously, additional synchronization mechanisms are implemented to ensure thread safety. This prevents the possibility of multiple instances being created in a multi-threaded environment."
   ]
  },
  {
   "cell_type": "code",
   "execution_count": 8,
   "metadata": {
    "dotnet_interactive": {
     "language": "csharp"
    },
    "polyglot_notebook": {
     "kernelName": "csharp"
    },
    "vscode": {
     "languageId": "polyglot-notebook"
    }
   },
   "outputs": [],
   "source": [
    "// Common implementation of a simple Singleton in C#\n",
    "public class Singleton\n",
    "{\n",
    "    // Private constructor to prevent direct instantiation\n",
    "    private Singleton() { }\n",
    "\n",
    "    // Private member, the singleton intance is static and readonly\n",
    "    private static readonly Singleton instance = new Singleton();\n",
    "\n",
    "    // Public property (only get) to access the singleton instance\n",
    "    public static Singleton Instance { get; }\n",
    "}\n",
    "\n",
    "// Test class where the singleton instance is accessed\n",
    "public class Test\n",
    "{\n",
    "    public void Code()\n",
    "    {\n",
    "        // Singleton singleton = new Singleton(); // Error\n",
    "        Singleton singleton = Singleton.Instance;\n",
    "        \n",
    "        // Perform your operations on the Singleton instance here\n",
    "        // ...\n",
    "    }\n",
    "}"
   ]
  },
  {
   "attachments": {},
   "cell_type": "markdown",
   "metadata": {},
   "source": [
    "If you want to make a singleton in a multi-threading context, it is recommended to use: Explicit lazy loading and lock for synchronization."
   ]
  },
  {
   "cell_type": "code",
   "execution_count": 7,
   "metadata": {
    "dotnet_interactive": {
     "language": "csharp"
    },
    "polyglot_notebook": {
     "kernelName": "csharp"
    },
    "vscode": {
     "languageId": "polyglot-notebook"
    }
   },
   "outputs": [],
   "source": [
    "// Common implementation of a Singleton in a multi-threaded context in C#\n",
    "public class Singleton\n",
    "{\n",
    "    // Private constructor to prevent direct instantiation\n",
    "    private Singleton() { }\n",
    "\n",
    "    // Private member, the singleton intance is static and lazy-loaded, but with an initial null value\n",
    "    private static Lazy<Singleton> instance = null;\n",
    "\n",
    "    // Synchronization mechanism to ensure that only one thread can enter the critical section at a time\n",
    "    private static readonly object lockObject = new object();\n",
    "\n",
    "    // Public property (only get) to access the singleton instance\n",
    "    public static Lazy<Singleton> Instance {\n",
    "        get\n",
    "        {\n",
    "            if (instance == null)\n",
    "            {\n",
    "                // Null double-check\n",
    "                lock (lockObject)\n",
    "                {\n",
    "                    if (instance == null)\n",
    "                    {\n",
    "                        // A \"lambda function\" is used becasue the constructor is private.\n",
    "                        instance = new Lazy<Singleton>(() => new Singleton());\n",
    "                    }\n",
    "                }\n",
    "            }\n",
    "            return instance;\n",
    "        }\n",
    "    }\n",
    "}\n",
    "\n",
    "// Test class where the singleton instance is accessed, but this time with async-await\n",
    "public class Test\n",
    "{\n",
    "    public async Task Code()\n",
    "    {\n",
    "        Lazy<Singleton> singleton = await Task.Run(() => Singleton.Instance);\n",
    "\n",
    "        // Perform your operations on the Singleton instance here\n",
    "        // ...\n",
    "    }\n",
    "}"
   ]
  },
  {
   "attachments": {},
   "cell_type": "markdown",
   "metadata": {},
   "source": [
    "The double-checked locking pattern is used to ensure thread safety. The first if (instance == null) check outside the lock is used to prevent unnecessary locking after the instance has been created.\n",
    "By using the lock statement, the critical section is synchronized, allowing only one thread to create an instance of the Singleton class. Subsequent threads attempting to access the Instance property will wait until the lock is released and then return the already created instance.\n",
    "\n",
    "This implementation ensures that the Singleton instance is created only when needed, and multiple threads are synchronized to access the instance safely in a multi-threaded environment."
   ]
  }
 ],
 "metadata": {
  "language_info": {
   "name": "python"
  },
  "orig_nbformat": 4
 },
 "nbformat": 4,
 "nbformat_minor": 2
}
