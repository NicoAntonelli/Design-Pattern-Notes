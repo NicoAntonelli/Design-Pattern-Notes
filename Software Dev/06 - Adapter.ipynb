{
 "cells": [
  {
   "attachments": {},
   "cell_type": "markdown",
   "metadata": {},
   "source": [
    "# Adapter\n",
    "\n",
    "## General idea\n",
    "The Adapter pattern is a structural design pattern that allows objects with incompatible interfaces to work together. It acts as a bridge between two incompatible interfaces, converting the interface of one class into another interface that clients expect. The Adapter pattern enables communication and collaboration between classes that would otherwise be incompatible or difficult to integrate.\n",
    "\n",
    "## Benefits\n",
    "The Adapter pattern provides several benefits:\n",
    "\n",
    "- Encapsulation: The Adapter pattern encapsulates the complexities of converting interfaces within the Adapter class. This allows the client code to interact with the Adapter using the desired interface, without needing to know the internal details or complexities of the Adaptee.\n",
    "\n",
    "- Reusability: Adapters can be reused to adapt multiple Adaptees to a common Target interface. This promotes code reusability and avoids duplicating the adaptation logic in different parts of the codebase.\n",
    "\n",
    "- Seamless Integration: The Adapter pattern facilitates the integration of existing classes or components into new systems without modifying their original source code. It helps in preserving the compatibility and stability of the existing codebase while enabling it to work with other parts of the system.\n",
    "\n",
    "- Flexibility: The Adapter pattern allows for the introduction of new functionality or behavior through the Adapter class. It is possible to extend or modify the behavior of the Adaptee by adding new methods or adapting existing ones within the Adapter class.\n",
    "\n",
    "- Interoperability: The Adapter pattern promotes interoperability between different systems or components that use different interfaces. It allows components developed by different teams or third-party libraries to seamlessly communicate and collaborate by adapting their interfaces to a common format.\n",
    "\n",
    "- Testability: Adapters facilitate the testing of code by providing a standardized interface. Test cases can interact with the code through the Target interface, enabling easier mocking, stubbing, and isolation of the code under test.\n",
    "\n",
    "> The Adapter pattern is commonly used in scenarios such as integrating legacy systems, working with third-party libraries, or when an existing class needs to be adapted to work with a different interface. It allows for the smooth integration and interaction between components with incompatible interfaces, promoting modularity, extensibility, and maintainability in software systems.\n",
    "\n",
    "## How it works\n",
    "- The `Target` interface defines the desired interface that the client code expects to interact with.\n",
    "\n",
    "- The `Adaptee` is the existing class with an incompatible interface that needs to be adapted.\n",
    "\n",
    "- The `Adapter` class implements the Target interface and internally holds an instance of the `Adaptee`.\n",
    "\n",
    "- The `Adapter` class maps the interface of the `Target` to the interface of the `Adaptee` and delegates the calls from the `Target` interface methods to the corresponding methods of the `Adaptee`."
   ]
  },
  {
   "cell_type": "code",
   "execution_count": 1,
   "metadata": {
    "dotnet_interactive": {
     "language": "csharp"
    },
    "polyglot_notebook": {
     "kernelName": "csharp"
    },
    "vscode": {
     "languageId": "polyglot-notebook"
    }
   },
   "outputs": [],
   "source": [
    "// Example of implementation of adapter pattern in C#\n",
    "\n",
    "// Target interface\n",
    "public interface ITarget\n",
    "{\n",
    "    void Request();\n",
    "}\n",
    "\n",
    "// Adaptee\n",
    "public class Adaptee\n",
    "{\n",
    "    public void SpecificRequest()\n",
    "    {\n",
    "        Console.WriteLine(\"Adaptee's SpecificRequest\");\n",
    "    }\n",
    "}\n",
    "\n",
    "// Adapter\n",
    "public class Adapter : ITarget\n",
    "{\n",
    "    private Adaptee adaptee;\n",
    "\n",
    "    public Adapter(Adaptee adaptee)\n",
    "    {\n",
    "        this.adaptee = adaptee;\n",
    "    }\n",
    "\n",
    "    public void Request()\n",
    "    {\n",
    "        // Call the Adaptee's specific method\n",
    "        adaptee.SpecificRequest();\n",
    "    }\n",
    "}\n",
    "\n",
    "// Client\n",
    "public class Client\n",
    "{\n",
    "    public void Code()\n",
    "    {\n",
    "        Adaptee adaptee = new Adaptee();\n",
    "        ITarget target = new Adapter(adaptee);\n",
    "\n",
    "        target.Request();\n",
    "    }\n",
    "}"
   ]
  },
  {
   "attachments": {},
   "cell_type": "markdown",
   "metadata": {},
   "source": [
    "## In this example:\n",
    "\n",
    "- The `ITarget` interface defines the target interface that the client code expects to interact with. It declares a single method `Request()`.\n",
    "\n",
    "- The `Adaptee` class represents the existing class with an incompatible interface. It has a method `SpecificRequest()` that needs to be adapted.\n",
    "\n",
    "- The `Adapter` class implements the ITarget interface and internally holds an instance of the Adaptee. It adapts the `SpecificRequest()` method of the `Adaptee` to the `Request()` method defined by the `ITarget` interface.\n",
    "\n",
    "- The `Client` class demonstrates how the Adapter pattern is used. It creates an instance of the `Adaptee` and passes it to the `Adapter` constructor. The `Adapter` implements the `ITarget` interface, so the client code can interact with it through the `Request()` method.\n",
    "\n",
    "> By utilizing the Adapter pattern, you can bridge the gap between two incompatible interfaces. The client code interacts with the Adapter through the `ITarget` interface, which internally delegates the calls to the methods of the `Adaptee`. This allows the client code to work seamlessly with the `Adaptee` class, even though they have incompatible interfaces."
   ]
  }
 ],
 "metadata": {
  "language_info": {
   "name": "python"
  },
  "orig_nbformat": 4
 },
 "nbformat": 4,
 "nbformat_minor": 2
}
