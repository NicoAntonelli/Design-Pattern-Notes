{
 "cells": [
  {
   "attachments": {},
   "cell_type": "markdown",
   "metadata": {},
   "source": [
    "# Abstract Factory\n",
    "\n",
    "## General idea\n",
    "The Abstract Factory pattern is a creational design pattern that provides an interface for creating families of related or dependent objects without specifying their concrete classes. It allows you to create objects that follow a common theme or belong to a specific category while abstracting the creation details.\n",
    "\n",
    "> Note: The Abstract Factory pattern is similar to the [Factory Method](<03 - Factory Method.ipynb>) pattern. The main difference is that the Abstract Factory pattern creates families of related or dependent objects, while the Factory Method pattern creates individual objects with a method. In simple words, the Abstract Factory is an object that has multiple [Factory Methods](<03 - Factory Method.ipynb>) on it.\n",
    "\n",
    "## Benefits\n",
    "The Abstract Factory pattern provides several benefits:\n",
    "\n",
    "- Encapsulation of Object Creation: The Abstract Factory pattern encapsulates the creation of objects. It provides a central place where the creation logic is defined, which promotes code organization and separation of concerns. The client code is shielded from the details of object creation, and only deals with the abstract interfaces.\n",
    "\n",
    "- Product Family Consistency: The Abstract Factory ensures that the products created by a Concrete Factory are compatible and consistent. The Concrete Factory is responsible for creating objects that are designed to work together, ensuring that the resulting objects are in a valid and compatible state.\n",
    "\n",
    "- Swappable Product Variants: The Abstract Factory pattern allows you to swap or switch between different families or variants of products by simply changing the Concrete Factory implementation. This makes it easier to accommodate different configurations or environments without modifying the client code.\n",
    "\n",
    "- Adherence to the Open-Closed Principle: The Abstract Factory pattern follows the Open-Closed Principle, which states that classes should be open for extension but closed for modification. By introducing new Concrete Factories and corresponding products, you can extend the application's functionality without modifying the existing client code.\n",
    "\n",
    "- Design Flexibility and Scalability: The Abstract Factory pattern provides a flexible and scalable solution for creating families of objects. You can introduce new Concrete Factories and products without affecting the existing codebase. This makes it easier to accommodate new requirements, adapt to changing business needs, and support future expansions.\n",
    "\n",
    "- Code Modularity and Maintainability: The Abstract Factory pattern promotes code modularity and maintainability. The separation between the abstract interfaces and concrete implementations makes it easier to manage and modify the codebase. It provides clear boundaries between different product families and allows for easier maintenance and evolution of the code.\n",
    "\n",
    "> Overall, the Abstract Factory pattern provides a way to create families of related objects without coupling the client code to specific concrete classes. It promotes flexibility, modularity, and maintainability in software systems, allowing for easier configuration and adaptation to different variants or environments.\n",
    "\n",
    "## How it works\n",
    "- Abstract Factory: It defines the interface for creating the abstract products. This interface declares a set of creation methods, each responsible for creating a specific type of product.\n",
    "\n",
    "- Concrete Factory: It implements the Abstract Factory interface and is responsible for creating concrete product objects. Each Concrete Factory corresponds to a specific variant or family of products.\n",
    "\n",
    "- Abstract Product: It declares the interface that the concrete products must implement.\n",
    "\n",
    "- Concrete Product: It represents a specific implementation of the Abstract Product interface."
   ]
  },
  {
   "cell_type": "code",
   "execution_count": 1,
   "metadata": {
    "dotnet_interactive": {
     "language": "csharp"
    },
    "polyglot_notebook": {
     "kernelName": "csharp"
    },
    "vscode": {
     "languageId": "polyglot-notebook"
    }
   },
   "outputs": [],
   "source": [
    "// Example of implementation of abstract factory pattern in C#\n",
    "\n",
    "// Abstract Product A\n",
    "public interface IProductA\n",
    "{\n",
    "    string GetName();\n",
    "}\n",
    "\n",
    "// Concrete Product A1\n",
    "public class ConcreteProductA1 : IProductA\n",
    "{\n",
    "    public string GetName()\n",
    "    {\n",
    "        return \"Product A1\";\n",
    "    }\n",
    "}\n",
    "\n",
    "// Concrete Product A2\n",
    "public class ConcreteProductA2 : IProductA\n",
    "{\n",
    "    public string GetName()\n",
    "    {\n",
    "        return \"Product A2\";\n",
    "    }\n",
    "}\n",
    "\n",
    "// Abstract Product B\n",
    "public interface IProductB\n",
    "{\n",
    "    string GetName();\n",
    "}\n",
    "\n",
    "// Concrete Product B1\n",
    "public class ConcreteProductB1 : IProductB\n",
    "{\n",
    "    public string GetName()\n",
    "    {\n",
    "        return \"Product B1\";\n",
    "    }\n",
    "}\n",
    "\n",
    "// Concrete Product B2\n",
    "public class ConcreteProductB2 : IProductB\n",
    "{\n",
    "    public string GetName()\n",
    "    {\n",
    "        return \"Product B2\";\n",
    "    }\n",
    "}\n",
    "\n",
    "// Abstract Factory\n",
    "public interface IAbstractFactory\n",
    "{\n",
    "    IProductA CreateProductA();\n",
    "    IProductB CreateProductB();\n",
    "}\n",
    "\n",
    "// Concrete Factory 1\n",
    "public class ConcreteFactory1 : IAbstractFactory\n",
    "{\n",
    "    public IProductA CreateProductA()\n",
    "    {\n",
    "        return new ConcreteProductA1();\n",
    "    }\n",
    "\n",
    "    public IProductB CreateProductB()\n",
    "    {\n",
    "        return new ConcreteProductB1();\n",
    "    }\n",
    "}\n",
    "\n",
    "// Concrete Factory 2\n",
    "public class ConcreteFactory2 : IAbstractFactory\n",
    "{\n",
    "    public IProductA CreateProductA()\n",
    "    {\n",
    "        return new ConcreteProductA2();\n",
    "    }\n",
    "\n",
    "    public IProductB CreateProductB()\n",
    "    {\n",
    "        return new ConcreteProductB2();\n",
    "    }\n",
    "}\n",
    "\n",
    "// Client\n",
    "public class Client\n",
    "{\n",
    "    private IAbstractFactory factory;\n",
    "\n",
    "    public Client(IAbstractFactory factory)\n",
    "    {\n",
    "        this.factory = factory;\n",
    "    }\n",
    "\n",
    "    public void UseProducts()\n",
    "    {\n",
    "        IProductA productA = factory.CreateProductA();\n",
    "        IProductB productB = factory.CreateProductB();\n",
    "\n",
    "        Console.WriteLine(\"Using \" + productA.GetName());\n",
    "        Console.WriteLine(\"Using \" + productB.GetName());\n",
    "    }\n",
    "}"
   ]
  },
  {
   "attachments": {},
   "cell_type": "markdown",
   "metadata": {},
   "source": [
    "## In this example:\n",
    "\n",
    "- The abstract products `IProductA` and `IProductB` declare the interfaces for the different product types.\n",
    "\n",
    "- The concrete product classes `ConcreteProductA1`, `ConcreteProductA2`, `ConcreteProductB1`, and `ConcreteProductB2` implement the respective product interfaces.\n",
    "\n",
    "- The abstract factory interface `IAbstractFactory` defines the methods for creating the abstract products.\n",
    "\n",
    "- The concrete factory classes `ConcreteFactory1` and `ConcreteFactory2` implement the abstract factory interface and provide the concrete implementations for creating the specific products.\n",
    "\n",
    "- The client class `Client` uses the abstract factory and its corresponding products. The client code is decoupled from the concrete product classes and only depends on the abstract interfaces and the abstract factory."
   ]
  },
  {
   "cell_type": "code",
   "execution_count": 2,
   "metadata": {
    "dotnet_interactive": {
     "language": "csharp"
    },
    "polyglot_notebook": {
     "kernelName": "csharp"
    },
    "vscode": {
     "languageId": "polyglot-notebook"
    }
   },
   "outputs": [
    {
     "name": "stdout",
     "output_type": "stream",
     "text": [
      "Using Product A1\n",
      "Using Product B1\n",
      "Using Product A2\n",
      "Using Product B2\n"
     ]
    }
   ],
   "source": [
    "// To use the Abstract Factory pattern, you can create an instance of the desired concrete factory and pass it to the client:\n",
    "\n",
    "// Create a ConcreteFactory1 instance\n",
    "IAbstractFactory factory1 = new ConcreteFactory1();\n",
    "\n",
    "// Create a client with the ConcreteFactory1 instance\n",
    "Client client1 = new Client(factory1);\n",
    "client1.UseProducts();\n",
    "\n",
    "// Create a ConcreteFactory2 instance\n",
    "IAbstractFactory factory2 = new ConcreteFactory2();\n",
    "\n",
    "// Create a client with the ConcreteFactory2 instance\n",
    "Client client2 = new Client(factory2);\n",
    "client2.UseProducts();"
   ]
  },
  {
   "attachments": {},
   "cell_type": "markdown",
   "metadata": {},
   "source": [
    "In this example, the clients can use different product variants (Product A and Product B) by simply switching the concrete factory implementation. The client code remains the same, and the products created are consistent within each factory implementation.\n",
    "\n",
    "> By utilizing the Abstract Factory pattern, you can create families of related or dependent objects without coupling the client code to specific concrete classes. This allows you to easily swap or switch between different product variants by simply changing the concrete factory implementation.\n"
   ]
  }
 ],
 "metadata": {
  "language_info": {
   "name": "python"
  },
  "orig_nbformat": 4
 },
 "nbformat": 4,
 "nbformat_minor": 2
}
